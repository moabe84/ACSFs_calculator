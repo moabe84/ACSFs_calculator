{
  "nbformat": 4,
  "nbformat_minor": 0,
  "metadata": {
    "colab": {
      "provenance": [],
      "authorship_tag": "ABX9TyMladfalkf5hFVWAs0SlL5V",
      "include_colab_link": true
    },
    "kernelspec": {
      "name": "python3",
      "display_name": "Python 3"
    },
    "language_info": {
      "name": "python"
    },
    "accelerator": "GPU",
    "gpuClass": "standard"
  },
  "cells": [
    {
      "cell_type": "markdown",
      "metadata": {
        "id": "view-in-github",
        "colab_type": "text"
      },
      "source": [
        "<a href=\"https://colab.research.google.com/github/moabe84/ACSFs_calculator/blob/main/ACSF_calculator.ipynb\" target=\"_parent\"><img src=\"https://colab.research.google.com/assets/colab-badge.svg\" alt=\"Open In Colab\"/></a>"
      ]
    },
    {
      "cell_type": "code",
      "source": [
        "# Install the RDKit package\n",
        "\n",
        "!pip install rdkit-pypi"
      ],
      "metadata": {
        "id": "WFpoQ-MN2T9S"
      },
      "execution_count": null,
      "outputs": []
    },
    {
      "cell_type": "code",
      "source": [
        "# Import required libraries\n",
        "\n",
        "import numpy as np\n",
        "import pandas as pd\n",
        "import csv\n",
        "import matplotlib.pyplot as plt\n",
        "\n",
        "from rdkit import Chem\n",
        "from rdkit.Chem import AllChem\n",
        "from rdkit.Chem.rdMolDescriptors import CalcMolFormula"
      ],
      "metadata": {
        "id": "MvnI5_fP2TRI"
      },
      "execution_count": 16,
      "outputs": []
    },
    {
      "cell_type": "code",
      "source": [
        "# Define our classes and functions\n",
        "\n",
        "class cutoff_func:\n",
        "  def tanh_func(r, r_c):\n",
        "    if r <= r_c:\n",
        "      f = (np.tanh(1 - (r / r_c))**3) / (np.tanh(1)**3)\n",
        "    else:\n",
        "      f = 0\n",
        "    return f\n",
        "\n",
        "  def cos_func(r, r_c):\n",
        "    if r <= r_c:\n",
        "      f = 0.5 * (np.cos(np.pi*(r / r_c)) + 1)\n",
        "    else:\n",
        "      f = 0\n",
        "    return f\n",
        "\n",
        "  def exp_func(r, r_c):\n",
        "    if r <= r_c:\n",
        "      f = np.exp(1 - (1 / (1 - ((r / r_c)**2))))\n",
        "    else:\n",
        "      f = 0\n",
        "    return f\n",
        "\n",
        "class symm_func:\n",
        "  def G_radial(r_ij, r_c, r_s, etha):\n",
        "    g_rad = (np.exp(-etha*((r_ij - r_s)**2))) * cutoff_func.cos_func(r_ij, r_c)\n",
        "    return g_rad\n",
        "\n",
        "  def G_angular(r_ij, r_ik, r_jk, theta_ijk, r_c, etha, gamma, lammda):\n",
        "    g_ang = (1 + (lammda * np.cos(theta_ijk)))**gamma * (np.exp(-etha*((r_ij**2 + r_ik**2 + r_jk**2)))) * ((cutoff_func.cos_func(r_ij, r_c)) * (cutoff_func.cos_func(r_ik, r_c)) * (cutoff_func.cos_func(r_jk, r_c)))\n",
        "    return g_ang\n",
        "\n",
        "\n",
        "class get_internal_coordinate:\n",
        "  def bond_distance(x1, y1, z1, x2, y2, z2):\n",
        "    bond = np.sqrt((float(x2) - float(x1))**2 + (float(y2) - float(y1))**2 + (float(z2) - float(z1))**2)\n",
        "    return bond  # bond in Angstrom\n",
        "\n",
        "  def bond_angle(x1, y1, z1, x2, y2, z2, x3, y3, z3):\n",
        "    r_ij = (np.array([float(x2), float(y2), float(z2)])) - (np.array([float(x1), float(y1), float(z1)]))\n",
        "    r_ik = (np.array([float(x3), float(y3), float(z3)])) - (np.array([float(x1), float(y1), float(z1)]))\n",
        "    angle = np.arccos(np.dot(r_ij, r_ik) / (np.linalg.norm(r_ij) * np.linalg.norm(r_ik)))\n",
        "    return angle * 57.2958  # angle in degree\n",
        "\n",
        "\n",
        "def smiles_to_xyz(mol):\n",
        "  mol = Chem.MolFromSmiles(mol)\n",
        "  mol = Chem.AddHs(mol)\n",
        "  AllChem.Compute2DCoords(mol)\n",
        "  AllChem.EmbedMolecule(mol)\n",
        "  AllChem.UFFOptimizeMolecule(mol)\n",
        "  return Chem.MolToXYZFile(mol, 'mol')\n"
      ],
      "metadata": {
        "id": "he8Ruu892tx1"
      },
      "execution_count": 17,
      "outputs": []
    },
    {
      "cell_type": "code",
      "source": [
        "# Define our parameters\n",
        "\n",
        "etha = 0.1\n",
        "gamma = 1\n",
        "lammda = -1\n",
        "r_s = 0.0\n",
        "r_c = 6.0\n",
        "\n",
        "# Import SMILES\n",
        "\n",
        "smiles = ['CNC(=O)c1nccc2cccn12']\n",
        "\n",
        "# Calculate radial (two-body) ACSFs\n",
        "\n",
        "for mol in smiles:\n",
        "  print(f'Structure Formula: {CalcMolFormula(Chem.MolFromSmiles(mol))} \\n')\n",
        "  smiles_to_xyz(mol)\n",
        "  data = open('mol', 'r')\n",
        "  lines = list(csv.reader(data, delimiter=' ', skipinitialspace=True))\n",
        "  num_atoms = int(lines[0][0])\n",
        "  \n",
        "  l = []\n",
        "  for i in range(1, num_atoms+1):\n",
        "    g = []\n",
        "    for j in range(1, num_atoms+1):\n",
        "      if i != j:\n",
        "        dis = get_internal_coordinate.bond_distance(lines[i+1][1], lines[i+1][2], lines[i+1][3], lines[j+1][1], lines[j+1][2], lines[j+1][3])\n",
        "        g_i = symm_func.G_radial(dis, r_c = r_c, r_s = r_s, etha = etha)\n",
        "        g.append(g_i) \n",
        "        l.append(g_i)\n",
        "    print(f'Sum of Gs for central atom {str(lines[i+1][0])}{i} = {np.sum(g)}')\n",
        "  print('\\n')\n",
        "  g_mean = np.mean(l)\n",
        "  g_std = np.std(l)\n",
        "  g_max = np.max(l)\n",
        "  g_min = np.min(l)\n",
        "  print(f'Total Number of Atoms = {num_atoms} \\n Total Number of Radial Gs = {len(l)} \\n G(Average) = {g_mean} \\n G(STD) = {g_std} \\n G(MAX) = {g_max} \\n G(MIN) = {g_mean}')"
      ],
      "metadata": {
        "id": "kIu3qEDS2wLv"
      },
      "execution_count": null,
      "outputs": []
    },
    {
      "cell_type": "code",
      "source": [
        "# Calculate angular (three-body) ACSFs\n",
        "\n",
        "for mol in smiles:\n",
        "  print(f'Structure Formula: {CalcMolFormula(Chem.MolFromSmiles(mol))} \\n')\n",
        "  smiles_to_xyz(mol)\n",
        "  data = open('mol', 'r')\n",
        "  lines = list(csv.reader(data, delimiter=' ', skipinitialspace=True))\n",
        "  num_atoms = int(lines[0][0])\n",
        "\n",
        "  l = []\n",
        "  for i in range(1, num_atoms+1):\n",
        "    g = []\n",
        "    for j in range(1, num_atoms+1):\n",
        "      for k in range(1, num_atoms+1):\n",
        "        if i != j and i != k and j != k:\n",
        "          r_ij = get_internal_coordinate.bond_distance((lines[i+1][1]), (lines[i+1][2]), (lines[i+1][3]), (lines[j+1][1]), (lines[j+1][2]), (lines[j+1][3]))\n",
        "          r_ik = get_internal_coordinate.bond_distance((lines[i+1][1]), (lines[i+1][2]), (lines[i+1][3]), (lines[k+1][1]), (lines[k+1][2]), (lines[k+1][3]))\n",
        "          r_jk = get_internal_coordinate.bond_distance((lines[j+1][1]), (lines[j+1][2]), (lines[j+1][3]), (lines[k+1][1]), (lines[k+1][2]), (lines[k+1][3]))\n",
        "          theta_ijk = get_internal_coordinate.bond_angle((lines[i+1][1]), (lines[i+1][2]), (lines[i+1][3]), (lines[j+1][1]), (lines[j+1][2]), (lines[j+1][3]), (lines[k+1][1]), (lines[k+1][2]), (lines[k+1][3]))\n",
        "          g_i = symm_func.G_angular(r_ij, r_ik, r_jk, theta_ijk, r_c = r_c, etha = etha, gamma = gamma, lammda = lammda)\n",
        "          g.append(g_i)\n",
        "          l.append(g_i)\n",
        "    print(f'Sum of Gs for central atom {str(lines[i+1][0])}{i} = {np.sum(g)}')\n",
        "  print('\\n')  \n",
        "  g_mean = np.mean(l)\n",
        "  g_std = np.std(l)\n",
        "  g_max = np.max(l)\n",
        "  g_min = np.min(l)\n",
        "  print(f'Total Number of Atoms = {num_atoms} \\n Total Number of Angular Gs = {len(l)} \\n G(Average) = {g_mean} \\n G(STD) = {g_std} \\n G(MAX) = {g_max} \\n G(MIN) = {g_mean}')  "
      ],
      "metadata": {
        "id": "2hQT1Cmt3uLr"
      },
      "execution_count": null,
      "outputs": []
    }
  ]
}